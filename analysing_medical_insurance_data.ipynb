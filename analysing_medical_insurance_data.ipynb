{
 "cells": [
  {
   "cell_type": "markdown",
   "id": "e62f431a",
   "metadata": {},
   "source": [
    "# Analysing Medical Insurance Data - Python Project"
   ]
  },
  {
   "cell_type": "markdown",
   "id": "21a6b94c",
   "metadata": {},
   "source": [
    "#### The goal of this project is to analyse a particular population and factors affecting medical insurance costs. The analysis focuses on comparing summary statistics of different groups of the population (e.g. smokers and non-smokers).\n",
    "\n",
    "##### The pre-cleaned data in the CSV format was made available by Codecademy, but it is me who defined the objectives and all steps of the analysis."
   ]
  },
  {
   "cell_type": "markdown",
   "id": "b9c6795d",
   "metadata": {},
   "source": [
    "Importing the data from the CSV file and creating separate datasets by saving the data in lists."
   ]
  },
  {
   "cell_type": "code",
   "execution_count": 1,
   "id": "5f688b01",
   "metadata": {},
   "outputs": [],
   "source": [
    "import csv\n",
    "\n",
    "age_lst = []\n",
    "sex_lst = []\n",
    "bmi_lst = []\n",
    "children_lst = []\n",
    "smoker_lst = []\n",
    "region_lst = []\n",
    "charges_lst = []\n",
    "\n",
    "with open(\"insurance.csv\", newline=\"\") as insurance_csv:\n",
    "    insurance_reader = csv.DictReader(insurance_csv)\n",
    "    for row in insurance_reader:\n",
    "        age_lst.append(row[\"age\"])\n",
    "        sex_lst.append(row[\"sex\"])\n",
    "        bmi_lst.append(row[\"bmi\"])\n",
    "        children_lst.append(row[\"children\"])\n",
    "        smoker_lst.append(row[\"smoker\"])\n",
    "        region_lst.append(row[\"region\"])\n",
    "        charges_lst.append(row[\"charges\"])"
   ]
  },
  {
   "cell_type": "markdown",
   "id": "3f779944",
   "metadata": {},
   "source": [
    "Creating a function that calculates averages of all numerical values in the given list and calling it (in this project, the function can be used to calculate the average age of the population, average BMI, number of children and medical insurance charges).\n"
   ]
  },
  {
   "cell_type": "code",
   "execution_count": 2,
   "id": "760e62a6",
   "metadata": {},
   "outputs": [
    {
     "name": "stdout",
     "output_type": "stream",
     "text": [
      "\n",
      "This medical dataset encompasses data of 1338 people. \n",
      "The average age of this population is 39.20702541106129 years, \n",
      "the average BMI is 30.663396860986538 \n",
      "and the average number of children is 1.0949177877429.\n",
      "The average insurance charges for an individual in this poulation amount to 13270.422265141257.\n",
      "\n"
     ]
    }
   ],
   "source": [
    "def get_average(lst):\n",
    "    total_value = 0\n",
    "    for value in lst:\n",
    "        total_value += float(value)\n",
    "    average = total_value / len(lst)\n",
    "    return average\n",
    "\n",
    "average_age = get_average(age_lst)\n",
    "average_bmi = get_average(bmi_lst)\n",
    "average_children = get_average(children_lst)\n",
    "average_charges = get_average(charges_lst)\n",
    "\n",
    "print(\"\"\"\n",
    "This medical dataset encompasses data of {len} people. \n",
    "The average age of this population is {average_age} years, \n",
    "the average BMI is {average_bmi} \n",
    "and the average number of children is {average_children}.\n",
    "The average insurance charges for an individual in this poulation amount to {average_charges}.\n",
    "\"\"\".format(len=len(age_lst), average_age=average_age, average_bmi=average_bmi, \n",
    "           average_children=average_children, average_charges=average_charges))"
   ]
  },
  {
   "cell_type": "markdown",
   "id": "dec576c5",
   "metadata": {},
   "source": [
    "Creating a function that counts the total number of occurences for different categories (within a non-numerical data list, e.g. smokers, regions, genders) and creates the dictionary to present the total values."
   ]
  },
  {
   "cell_type": "code",
   "execution_count": 3,
   "id": "5be9147f",
   "metadata": {},
   "outputs": [
    {
     "name": "stdout",
     "output_type": "stream",
     "text": [
      "\n",
      "The dataset contains medical data of 662 women and 676 men. \n",
      "274 people in the poulation smoke and 1064 people do not.\n",
      "The data comes from 4 regions represented by a similar number of people.\n",
      "The exact numberes are presented below:\n",
      " {'southwest': 325, 'southeast': 364, 'northwest': 325, 'northeast': 324} {'female': 662, 'male': 676} {'yes': 274, 'no': 1064}\n"
     ]
    }
   ],
   "source": [
    "def get_total_number_dict(lst):\n",
    "    data_dict = {}\n",
    "    for item in lst:\n",
    "        if item not in data_dict:\n",
    "            data_dict.update({item: 1})\n",
    "        else:\n",
    "            data_dict[item] += 1\n",
    "    return data_dict\n",
    "\n",
    "regions_data = get_total_number_dict(region_lst)\n",
    "sex_data = get_total_number_dict(sex_lst)\n",
    "smoker_data = get_total_number_dict(smoker_lst)\n",
    "\n",
    "\n",
    "print(\"\"\"\n",
    "The dataset contains medical data of {} women and {} men. \n",
    "{} people in the poulation smoke and {} people do not.\n",
    "The data comes from 4 regions represented by a similar number of people.\n",
    "The exact numberes are presented below:\n",
    "\"\"\".format(str(sex_data[\"female\"]), str(sex_data[\"male\"]), str(smoker_data[\"yes\"]), str(smoker_data[\"no\"])), \n",
    "      regions_data, sex_data, smoker_data)\n",
    "\n"
   ]
  },
  {
   "cell_type": "markdown",
   "id": "58d1137c",
   "metadata": {},
   "source": [
    "Creating a function which checks where the majority of the people live. \n",
    "The function could be particularly useful if the number of regions was higher.\n"
   ]
  },
  {
   "cell_type": "code",
   "execution_count": 4,
   "id": "d5853b8a",
   "metadata": {},
   "outputs": [
    {
     "name": "stdout",
     "output_type": "stream",
     "text": [
      "\n",
      "The majority of people come from the southeast. 364 people live there. \n",
      "\n"
     ]
    }
   ],
   "source": [
    "def get_most_repr_region(data_dict):\n",
    "    max_region = \"x\"\n",
    "    max_population = 0\n",
    "    for key, value in data_dict.items():\n",
    "        if value > max_population:\n",
    "            max_region = key\n",
    "            max_population = value \n",
    "    message = \"\"\"\n",
    "The majority of people come from the {region}. {population} people live there. \\n\"\"\".format(\n",
    "        region=max_region, population=max_population)\n",
    "    return message\n",
    "\n",
    "print(get_most_repr_region(regions_data))"
   ]
  },
  {
   "cell_type": "markdown",
   "id": "abde3f74",
   "metadata": {},
   "source": [
    "The function defined below creates a dictionary which takes two lists of data, zippes them and returns as a dictionary. \n",
    "The recurrent (non-unique) items from list1 are presented jointly as keys in the dictionary and values are represented by lists which contain corresponding items from list2. \n",
    "The dictionary serves comparison purposes, e.g. allows to compare the medical insurance charges of smokers and non-smokers or ages of people who have a particular number of children or do not have any children at all. \n"
   ]
  },
  {
   "cell_type": "code",
   "execution_count": 5,
   "id": "7607d9fd",
   "metadata": {},
   "outputs": [],
   "source": [
    "def get_comparison_dict2(list1, list2):\n",
    "    new_dict = {}\n",
    "    zipped_list = zip(list1, list2)\n",
    "    for record in zipped_list:\n",
    "        if record[0] not in new_dict.keys():\n",
    "            new_dict.update({record[0]: [record[1]]})\n",
    "        else:\n",
    "            new_dict[record[0]].append(record[1])\n",
    "    return new_dict\n",
    "\n",
    "smoker_to_charges = get_comparison_dict2(smoker_lst, charges_lst)\n",
    "children_to_age = get_comparison_dict2(children_lst, age_lst)\n"
   ]
  },
  {
   "cell_type": "code",
   "execution_count": 6,
   "id": "06ca4946",
   "metadata": {},
   "outputs": [],
   "source": [
    "#### Function calculating averages for values presented in the comparison dictionaries created by calling the function above. \n",
    "\n",
    "def present_averages(comparison_dict):\n",
    "    new_dict = {}\n",
    "    for key, value_lst in comparison_dict.items():\n",
    "        total_value = 0\n",
    "        for value in value_lst:\n",
    "            total_value += float(value)\n",
    "        average = total_value / len(value_lst)\n",
    "        new_dict.update({key: average})\n",
    "    return new_dict"
   ]
  },
  {
   "cell_type": "markdown",
   "id": "5f431bf4",
   "metadata": {},
   "source": [
    "Using the function above (present_averages) to create the dictionary presenting average values for the two different categories: smokers and non-smokers.\n",
    "Next, the difference in these averages is calculated. \n"
   ]
  },
  {
   "cell_type": "code",
   "execution_count": 7,
   "id": "6da2ba3b",
   "metadata": {},
   "outputs": [
    {
     "name": "stdout",
     "output_type": "stream",
     "text": [
      "The following data presents the average charges of smokers and non-smokers. \n",
      "The key is an answer to question \"Do you smoke\"? {'yes': 32050.23183153285, 'no': 8434.268297856199}\n",
      "Smokers pay on average approx. 23615 dollars more than non-smokers for their medical insurance.\n"
     ]
    }
   ],
   "source": [
    "smoker_average_charges = present_averages(smoker_to_charges)\n",
    "print('''The following data presents the average charges of smokers and non-smokers. \n",
    "The key is an answer to question \\\"Do you smoke\\\"?''', smoker_average_charges)\n",
    "\n",
    "smoker_diff_average_charges = abs(smoker_average_charges[\"yes\"] - smoker_average_charges[\"no\"])\n",
    "print(\"Smokers pay on average approx.\", int(smoker_diff_average_charges), \n",
    "      \"dollars more than non-smokers for their medical insurance.\")"
   ]
  },
  {
   "cell_type": "markdown",
   "id": "e217ee77",
   "metadata": {},
   "source": [
    "Utilising the function \"present_averages\" to create the dictionary presenting average ages of people with a different number of children"
   ]
  },
  {
   "cell_type": "code",
   "execution_count": 8,
   "id": "ce726174",
   "metadata": {},
   "outputs": [
    {
     "name": "stdout",
     "output_type": "stream",
     "text": [
      "\n",
      "As stated above, the average age of this population is 39.20702541106129.\n",
      "The average age of people in this dataset in relation to the number of children they have can be found \n",
      "in the following dictionary: {'0': 38.444250871080136, '1': 39.4537037037037, '3': 41.56687898089172, '2': 39.44583333333333, '5': 35.611111111111114, '4': 39.0}\n"
     ]
    }
   ],
   "source": [
    "print(\"\"\"\n",
    "As stated above, the average age of this population is \"\"\" + str(average_age) + \"\"\".\"\"\")\n",
    "\n",
    "children_average_age = present_averages(children_to_age)\n",
    "\n",
    "print('''The average age of people in this dataset in relation to the number of children they have can be found \n",
    "in the following dictionary:''', children_average_age) \n"
   ]
  },
  {
   "cell_type": "markdown",
   "id": "5d7d424e",
   "metadata": {},
   "source": [
    "The following function creates a dictionary which shows the highest and lowest average age in relation to the number of children."
   ]
  },
  {
   "cell_type": "code",
   "execution_count": 9,
   "id": "4a2b1441",
   "metadata": {},
   "outputs": [
    {
     "name": "stdout",
     "output_type": "stream",
     "text": [
      "The age average in this dataset is highest for people who have 3 children and lowest for people who have 5 children: {'3': 41.56687898089172, '5': 35.611111111111114}\n"
     ]
    }
   ],
   "source": [
    "def get_extreme_averages(average_data_dict):\n",
    "    max_age_average = 0\n",
    "    max_average_children = \"x\"\n",
    "    min_age_average = float(\"inf\")\n",
    "    min_average_children = \"y\"\n",
    "    for key, value in average_data_dict.items():\n",
    "        if value > max_age_average:\n",
    "            max_age_average = value\n",
    "            max_average_children = key\n",
    "        elif value < min_age_average:\n",
    "            min_age_average = value\n",
    "            min_average_children = key\n",
    "    new_dict = {max_average_children: max_age_average, min_average_children: min_age_average}\n",
    "    return new_dict\n",
    "\n",
    "extreme_averages_children_age = get_extreme_averages(children_average_age)\n",
    "print(\"The age average in this dataset is highest for people who have 3 children and lowest for people who have 5 children:\", \n",
    "      extreme_averages_children_age)"
   ]
  },
  {
   "cell_type": "markdown",
   "id": "0eca4358",
   "metadata": {},
   "source": [
    "Calculating the average age of childless people and parents - utilizing the comparison dictionary \"children to age\" generated above."
   ]
  },
  {
   "cell_type": "code",
   "execution_count": 10,
   "id": "0f665c41",
   "metadata": {},
   "outputs": [
    {
     "name": "stdout",
     "output_type": "stream",
     "text": [
      "The average ages of people who do and do not have children can be found in the following set: {'Average age of childless people': 38.444250871080136, 'Average age of people who have at least one child': 39.78010471204188}\n"
     ]
    }
   ],
   "source": [
    "def get_average_age_parents_childless(comparison_dict):\n",
    "    total_age_parents = 0\n",
    "    total_age_childless = 0\n",
    "    for key, value in comparison_dict.items():\n",
    "        if key == \"0\":\n",
    "            for number in value:\n",
    "                total_age_childless += int(number)\n",
    "        else:\n",
    "            for number in value:\n",
    "                total_age_parents += int(number)\n",
    "                \n",
    "    average_age_childless = total_age_childless / len(comparison_dict[\"0\"])\n",
    "    average_age_parents = total_age_parents / (len(comparison_dict[\"1\"]) + len(comparison_dict[\"2\"]) + \n",
    "                                               len(comparison_dict[\"3\"]) + len(comparison_dict[\"4\"]) + \n",
    "                                               len(comparison_dict[\"5\"]))\n",
    "    \n",
    "    new_dict = {\"Average age of childless people\": average_age_childless, \n",
    "                \"Average age of people who have at least one child\": average_age_parents}\n",
    "    \n",
    "    return new_dict\n",
    "\n",
    "average_age_parents_childless = get_average_age_parents_childless(children_to_age)\n",
    "\n",
    "print(\"The average ages of people who do and do not have children can be found in the following set:\", \n",
    "      average_age_parents_childless)\n"
   ]
  }
 ],
 "metadata": {
  "kernelspec": {
   "display_name": "Python 3 (ipykernel)",
   "language": "python",
   "name": "python3"
  },
  "language_info": {
   "codemirror_mode": {
    "name": "ipython",
    "version": 3
   },
   "file_extension": ".py",
   "mimetype": "text/x-python",
   "name": "python",
   "nbconvert_exporter": "python",
   "pygments_lexer": "ipython3",
   "version": "3.9.7"
  }
 },
 "nbformat": 4,
 "nbformat_minor": 5
}
